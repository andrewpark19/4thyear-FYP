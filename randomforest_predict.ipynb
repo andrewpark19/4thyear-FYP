{
  "nbformat": 4,
  "nbformat_minor": 0,
  "metadata": {
    "colab": {
      "name": "randomforest_predict.ipynb",
      "provenance": [],
      "mount_file_id": "1L1W4t9-wN2H0Y2MgYhZ1eLWm0g5g_n2T",
      "authorship_tag": "ABX9TyNhOoYswXv8UC/rClSeW7rf",
      "include_colab_link": true
    },
    "kernelspec": {
      "name": "python3",
      "display_name": "Python 3"
    },
    "language_info": {
      "name": "python"
    }
  },
  "cells": [
    {
      "cell_type": "markdown",
      "metadata": {
        "id": "view-in-github",
        "colab_type": "text"
      },
      "source": [
        "<a href=\"https://colab.research.google.com/github/andrewpark19/4thyear-FYP/blob/main/randomforest_predict.ipynb\" target=\"_parent\"><img src=\"https://colab.research.google.com/assets/colab-badge.svg\" alt=\"Open In Colab\"/></a>"
      ]
    },
    {
      "cell_type": "code",
      "source": [
        "### Always run this cell\n",
        "\n",
        "import joblib\n",
        "import cv2\n",
        "import tensorflow\n",
        "import keras\n",
        "from keras.models import load_model\n",
        "\n",
        "#Path to different models\n",
        "binaryrf_path = '/content/drive/MyDrive/melanoma_data/models/binary_rf.joblib'\n",
        "\n",
        "#Path to input tested image\n",
        "inputfile_path = '/content/ISIC_0015719.jpg'"
      ],
      "metadata": {
        "id": "yXF5Xa86Wlri"
      },
      "execution_count": 30,
      "outputs": []
    },
    {
      "cell_type": "code",
      "execution_count": 31,
      "metadata": {
        "colab": {
          "base_uri": "https://localhost:8080/"
        },
        "id": "dEUt_t9NL0nT",
        "outputId": "4611e378-64b7-44f8-a38c-1e4d9e052887"
      },
      "outputs": [
        {
          "output_type": "stream",
          "name": "stdout",
          "text": [
            "Image is: 78.0% benign and 22.0% malignant\n"
          ]
        }
      ],
      "source": [
        "### If predicting with binary random forest:\n",
        "img = cv2.imread(inputfile_path)\n",
        "img = cv2.resize(img, (72,72))\n",
        "\n",
        "nx, ny, nrgb = img.shape\n",
        "img = img.reshape((1,nx*ny*nrgb))\n",
        "\n",
        "binary_rf = joblib.load(binaryrf_path)\n",
        "\n",
        "print('Image is: {0}% {1} and {2}% {3}'.format(binary_rf.predict_proba(img)[0,0]*100, 'benign', \n",
        "                                          binary_rf.predict_proba(img)[0,1]*100, 'malignant'))"
      ]
    }
  ]
}