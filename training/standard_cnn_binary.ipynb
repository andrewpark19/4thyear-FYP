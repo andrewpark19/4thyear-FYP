{
  "cells": [
    {
      "cell_type": "markdown",
      "metadata": {
        "id": "view-in-github",
        "colab_type": "text"
      },
      "source": [
        "<a href=\"https://colab.research.google.com/github/andrewpark19/4thyear-FYP/blob/main/standard_cnn_binary.ipynb\" target=\"_parent\"><img src=\"https://colab.research.google.com/assets/colab-badge.svg\" alt=\"Open In Colab\"/></a>"
      ]
    },
    {
      "cell_type": "code",
      "execution_count": null,
      "metadata": {
        "colab": {
          "base_uri": "https://localhost:8080/"
        },
        "id": "SQufgq2WrUFT",
        "outputId": "d49c41cf-8c87-4ba4-e13c-1909d7855680"
      },
      "outputs": [
        {
          "output_type": "stream",
          "name": "stdout",
          "text": [
            "Mon Jun  6 14:36:34 2022       \n",
            "+-----------------------------------------------------------------------------+\n",
            "| NVIDIA-SMI 460.32.03    Driver Version: 460.32.03    CUDA Version: 11.2     |\n",
            "|-------------------------------+----------------------+----------------------+\n",
            "| GPU  Name        Persistence-M| Bus-Id        Disp.A | Volatile Uncorr. ECC |\n",
            "| Fan  Temp  Perf  Pwr:Usage/Cap|         Memory-Usage | GPU-Util  Compute M. |\n",
            "|                               |                      |               MIG M. |\n",
            "|===============================+======================+======================|\n",
            "|   0  Tesla P100-PCIE...  Off  | 00000000:00:04.0 Off |                    0 |\n",
            "| N/A   35C    P0    27W / 250W |      0MiB / 16280MiB |      0%      Default |\n",
            "|                               |                      |                  N/A |\n",
            "+-------------------------------+----------------------+----------------------+\n",
            "                                                                               \n",
            "+-----------------------------------------------------------------------------+\n",
            "| Processes:                                                                  |\n",
            "|  GPU   GI   CI        PID   Type   Process name                  GPU Memory |\n",
            "|        ID   ID                                                   Usage      |\n",
            "|=============================================================================|\n",
            "|  No running processes found                                                 |\n",
            "+-----------------------------------------------------------------------------+\n"
          ]
        }
      ],
      "source": [
        "!nvidia-smi"
      ]
    },
    {
      "cell_type": "code",
      "source": [
        "!pip install tensorflow_addons"
      ],
      "metadata": {
        "colab": {
          "base_uri": "https://localhost:8080/"
        },
        "id": "qMUeWvdnTe99",
        "outputId": "1f3d057d-6b1c-4093-e8df-cc7e392ff475"
      },
      "execution_count": null,
      "outputs": [
        {
          "output_type": "stream",
          "name": "stdout",
          "text": [
            "Looking in indexes: https://pypi.org/simple, https://us-python.pkg.dev/colab-wheels/public/simple/\n",
            "Collecting tensorflow_addons\n",
            "  Downloading tensorflow_addons-0.17.0-cp37-cp37m-manylinux_2_17_x86_64.manylinux2014_x86_64.whl (1.1 MB)\n",
            "\u001b[K     |████████████████████████████████| 1.1 MB 4.3 MB/s \n",
            "\u001b[?25hRequirement already satisfied: packaging in /usr/local/lib/python3.7/dist-packages (from tensorflow_addons) (21.3)\n",
            "Requirement already satisfied: typeguard>=2.7 in /usr/local/lib/python3.7/dist-packages (from tensorflow_addons) (2.7.1)\n",
            "Requirement already satisfied: pyparsing!=3.0.5,>=2.0.2 in /usr/local/lib/python3.7/dist-packages (from packaging->tensorflow_addons) (3.0.9)\n",
            "Installing collected packages: tensorflow-addons\n",
            "Successfully installed tensorflow-addons-0.17.0\n"
          ]
        }
      ]
    },
    {
      "cell_type": "code",
      "execution_count": null,
      "metadata": {
        "id": "RlBwoLTdTLyg"
      },
      "outputs": [],
      "source": [
        "import cv2\n",
        "import numpy as np\n",
        "import pandas as pd\n",
        "from tqdm import tqdm\n",
        "import tensorflow as tf\n",
        "from tensorflow import keras\n",
        "from tensorflow.keras.preprocessing.image import ImageDataGenerator\n",
        "import os\n",
        "import matplotlib.pyplot as plt\n",
        "from tensorflow.keras import layers\n",
        "import tensorflow_addons as tfa"
      ]
    },
    {
      "cell_type": "code",
      "execution_count": null,
      "metadata": {
        "id": "kmTUavAbTVIk"
      },
      "outputs": [],
      "source": [
        "!unzip /content/drive/MyDrive/melanoma_data/isic_2020/train_2020/train_2020.zip > /dev/null\n",
        "!unzip /content/drive/MyDrive/melanoma_data/isic_2020/test_2020/test_2020.zip > /dev/null\n",
        "!unzip /content/drive/MyDrive/melanoma_data/isic_2019/train_2019/train_2019.zip > /dev/null\n"
      ]
    },
    {
      "cell_type": "code",
      "execution_count": null,
      "metadata": {
        "id": "BWIksmwbTXB3"
      },
      "outputs": [],
      "source": [
        "train2020_dir = '/content/train_2020'\n",
        "test2020_dir = '/content/test_2020'\n",
        "train2019_dir = '/content/train_2019' \n",
        "data_dir = '/content/drive/MyDrive/melanoma_data'\n",
        "\n",
        "def get_df(data_dir, train2020_dir, test2020_dir, train2019_dir, use_meta=False):\n",
        "\n",
        "    ###Training Data\n",
        "    #2020 Data\n",
        "    df_train = pd.read_csv(os.path.join(data_dir, r'isic_2020','train_2020.csv')) #path to train_2020.csv\n",
        "    df_train['filepath'] = df_train['image_name'].apply(lambda x: os.path.join(train2020_dir, f'{x}.jpg'))\n",
        "\n",
        "    # #2019 data\n",
        "    df_train2 = pd.read_csv(os.path.join(data_dir, r'isic_2019', 'train_2019.csv')) #path to train_2019.csv\n",
        "    df_train2['filepath'] = df_train2['image_name'].apply(lambda x: os.path.join(train2019_dir, f'{x}.jpg'))\n",
        "\n",
        "    # #Change Labels to match\n",
        "    df_train['diagnosis']  = df_train['diagnosis'].apply(lambda x: x.replace('seborrheic keratosis', 'BKL'))\n",
        "    df_train['diagnosis']  = df_train['diagnosis'].apply(lambda x: x.replace('lichenoid keratosis', 'BKL'))\n",
        "    df_train['diagnosis']  = df_train['diagnosis'].apply(lambda x: x.replace('solar lentigo', 'BKL'))\n",
        "    df_train['diagnosis']  = df_train['diagnosis'].apply(lambda x: x.replace('lentigo NOS', 'BKL'))\n",
        "    df_train['diagnosis']  = df_train['diagnosis'].apply(lambda x: x.replace('cafe-au-lait macule', 'unknown'))\n",
        "    df_train['diagnosis']  = df_train['diagnosis'].apply(lambda x: x.replace('atypical melanocytic proliferation', 'unknown'))\n",
        "\n",
        "    df_train2['diagnosis'] = df_train2['diagnosis'].apply(lambda x: x.replace('NV', 'nevus'))\n",
        "    df_train2['diagnosis'] = df_train2['diagnosis'].apply(lambda x: x.replace('MEL', 'melanoma'))\n",
        "\n",
        "    df_train = pd.concat([df_train, df_train2]).reset_index(drop=True)\n",
        "\n",
        "    # ###Test Data\n",
        "    df_test = pd.read_csv(os.path.join(data_dir,r'isic_2020', 'test_2020.csv'))\n",
        "    df_test['filepath'] = df_test['image_name'].apply(lambda x: os.path.join(test2020_dir, f'{x}.jpg'))\n",
        "\n",
        "    if use_meta:\n",
        "        df_train, df_test, meta_features, n_meta_features = get_meta_data(df_train, df_test)\n",
        "    else:\n",
        "        meta_features = None\n",
        "        n_meta_features = 0\n",
        "\n",
        "    diagnosis2idx = {d: idx for idx, d in enumerate(sorted(df_train.diagnosis.unique()))}\n",
        "    df_train['target'] = df_train['diagnosis'].map(diagnosis2idx)\n",
        "    mel_idx = diagnosis2idx['melanoma']\n",
        "\n",
        "    df_train, df_val = train_test_split(df_train, test_size=0.25, stratify = df_train[['diagnosis']])\n",
        "\n",
        "    return df_train, df_val, df_test, meta_features, n_meta_features, mel_idx\n",
        "  \n",
        "\n",
        "df_train, df_val, df_test, _, _, mel_idx = get_df(data_dir, train2020_dir, test2020_dir, train2019_dir, use_meta=False)"
      ]
    },
    {
      "cell_type": "code",
      "source": [
        "df_train.loc[df_train.diagnosis == 'BCC', 'benign_malignant'] = 'malignant' \n",
        "df_train.loc[df_train.diagnosis == 'SCC', 'benign_malignant'] = 'malignant' "
      ],
      "metadata": {
        "id": "4Stv7nWeRcCa"
      },
      "execution_count": null,
      "outputs": []
    },
    {
      "cell_type": "code",
      "execution_count": null,
      "metadata": {
        "id": "qplfAwaAyNjs"
      },
      "outputs": [],
      "source": [
        "SEED = 42\n",
        "\n",
        "num_classes = 2\n",
        "learning_rate = 0.001\n",
        "weight_decay = 0.0001\n",
        "batch_size = 64\n",
        "patience= 30\n",
        "num_epochs = 100\n",
        "\n",
        "image_size= 224"
      ]
    },
    {
      "cell_type": "code",
      "execution_count": null,
      "metadata": {
        "colab": {
          "base_uri": "https://localhost:8080/"
        },
        "id": "7kpr7_bCTDnJ",
        "outputId": "564962c1-ad2d-4d09-915a-e4896b1083c3"
      },
      "outputs": [
        {
          "output_type": "stream",
          "name": "stdout",
          "text": [
            "Found 32322 validated image filenames belonging to 2 classes.\n",
            "Found 10675 validated image filenames belonging to 2 classes.\n"
          ]
        },
        {
          "output_type": "stream",
          "name": "stderr",
          "text": [
            "/usr/local/lib/python3.7/dist-packages/keras_preprocessing/image/dataframe_iterator.py:282: UserWarning: Found 11520 invalid image filename(s) in x_col=\"filepath\". These filename(s) will be ignored.\n",
            "  .format(n_invalid, x_col)\n",
            "/usr/local/lib/python3.7/dist-packages/keras_preprocessing/image/dataframe_iterator.py:282: UserWarning: Found 3940 invalid image filename(s) in x_col=\"filepath\". These filename(s) will be ignored.\n",
            "  .format(n_invalid, x_col)\n"
          ]
        }
      ],
      "source": [
        "from keras.preprocessing.image import ImageDataGenerator\n",
        "\n",
        "train_datagen = ImageDataGenerator(horizontal_flip=True,\n",
        "                                   vertical_flip=False,\n",
        "                                   rescale=1/255.0,\n",
        "                                  #  rotation_range = 90,\n",
        "                                  #  brightness_range=[0.2,1.0],\n",
        "                                  #  zoom_range=[0.5,1.0],\n",
        "                                  #preprocessing_function=keras.applications.resnet50.preprocess_input\n",
        "                                   )\n",
        "\n",
        "train_generator = train_datagen.flow_from_dataframe(     \n",
        "    dataframe=df_train,  \n",
        "    directory=None,\n",
        "    x_col='filepath', # name of col in data frame that contains file names\n",
        "    y_col=\"benign_malignant\", # name of col with labels \n",
        "    batch_size=batch_size,\n",
        "    shuffle=True,\n",
        "    #save_to_dir=saveDir,\n",
        "    target_size=(image_size, image_size),\n",
        "    color_mode='rgb',\n",
        "    class_mode='sparse'\n",
        ")\n",
        "\n",
        "valid_generator = train_datagen.flow_from_dataframe(     \n",
        "    dataframe=df_val,  \n",
        "    directory=None,\n",
        "    x_col='filepath', # name of col in data frame that contains file names\n",
        "    y_col=\"benign_malignant\", # name of col with labels \n",
        "    batch_size=batch_size,\n",
        "    shuffle=True,\n",
        "    #save_to_dir=saveDir,\n",
        "    target_size=(image_size, image_size),\n",
        "    color_mode='rgb',\n",
        "    class_mode='sparse'\n",
        ")"
      ]
    },
    {
      "cell_type": "code",
      "execution_count": null,
      "metadata": {
        "id": "4RpZaZMTsdtu"
      },
      "outputs": [],
      "source": [
        "from sklearn.utils import class_weight\n",
        "import shutil\n",
        "\n",
        "weights = class_weight.compute_class_weight(class_weight = 'balanced',\n",
        "                                            classes = np.unique(train_generator.classes),\n",
        "                                            y= train_generator.classes)\n",
        "weights = dict(zip(np.unique(train_generator.classes), weights))\n",
        "\n",
        "model_name = \"melanoma_ResNet50.h5\"\n",
        "log_dir = os.path.join(os.getcwd(), 'logs')\n",
        "filepath='ResNet50.{epoch:02d}-{val_loss:.4f}.h5'\n",
        "ck_path = os.path.join(log_dir, filepath)\n",
        "if not os.path.isdir(log_dir):\n",
        "  os.makedirs(log_dir)\n",
        "mc = keras.callbacks.ModelCheckpoint(ck_path, monitor='val_loss',save_best_only=True,save_weights_only=True)\n",
        "es = keras.callbacks.EarlyStopping(monitor='val_loss', patience=patience, verbose=0) # when patience epoch val_loss not improve, stop train\n",
        "# tb = keras.callbacks.TensorBoard(log_dir=log_dir, histogram_freq=0)\n",
        "callbacks = [es, mc]\n",
        "\n",
        "optimizer = tfa.optimizers.AdamW(learning_rate=learning_rate, weight_decay=weight_decay)"
      ]
    },
    {
      "cell_type": "code",
      "execution_count": null,
      "metadata": {
        "id": "EyED4s0KIJ4X",
        "colab": {
          "base_uri": "https://localhost:8080/",
          "height": 1000
        },
        "outputId": "1e285717-7977-436b-f3cd-f2f9edf4ae00"
      },
      "outputs": [
        {
          "output_type": "stream",
          "name": "stdout",
          "text": [
            "Model: \"sequential\"\n",
            "_________________________________________________________________\n",
            " Layer (type)                Output Shape              Param #   \n",
            "=================================================================\n",
            " conv2d (Conv2D)             (None, 222, 222, 64)      1792      \n",
            "                                                                 \n",
            " max_pooling2d (MaxPooling2D  (None, 111, 111, 64)     0         \n",
            " )                                                               \n",
            "                                                                 \n",
            " batch_normalization (BatchN  (None, 111, 111, 64)     256       \n",
            " ormalization)                                                   \n",
            "                                                                 \n",
            " conv2d_1 (Conv2D)           (None, 109, 109, 512)     295424    \n",
            "                                                                 \n",
            " max_pooling2d_1 (MaxPooling  (None, 54, 54, 512)      0         \n",
            " 2D)                                                             \n",
            "                                                                 \n",
            " dropout (Dropout)           (None, 54, 54, 512)       0         \n",
            "                                                                 \n",
            " conv2d_2 (Conv2D)           (None, 52, 52, 1024)      4719616   \n",
            "                                                                 \n",
            " max_pooling2d_2 (MaxPooling  (None, 26, 26, 1024)     0         \n",
            " 2D)                                                             \n",
            "                                                                 \n",
            " batch_normalization_1 (Batc  (None, 26, 26, 1024)     4096      \n",
            " hNormalization)                                                 \n",
            "                                                                 \n",
            " dropout_1 (Dropout)         (None, 26, 26, 1024)      0         \n",
            "                                                                 \n",
            " conv2d_3 (Conv2D)           (None, 26, 26, 1024)      1049600   \n",
            "                                                                 \n",
            " max_pooling2d_3 (MaxPooling  (None, 26, 26, 1024)     0         \n",
            " 2D)                                                             \n",
            "                                                                 \n",
            " dropout_2 (Dropout)         (None, 26, 26, 1024)      0         \n",
            "                                                                 \n",
            " flatten (Flatten)           (None, 692224)            0         \n",
            "                                                                 \n",
            " dense (Dense)               (None, 256)               177209600 \n",
            "                                                                 \n",
            " dropout_3 (Dropout)         (None, 256)               0         \n",
            "                                                                 \n",
            " dense_1 (Dense)             (None, 9)                 2313      \n",
            "                                                                 \n",
            "=================================================================\n",
            "Total params: 183,282,697\n",
            "Trainable params: 183,280,521\n",
            "Non-trainable params: 2,176\n",
            "_________________________________________________________________\n",
            "Epoch 1/100\n",
            "506/506 [==============================] - 353s 660ms/step - loss: 13.1547 - accuracy: 0.8271 - top-3-accuracy: 0.9986 - val_loss: 0.7451 - val_accuracy: 0.8932 - val_top-3-accuracy: 1.0000\n",
            "Epoch 2/100\n",
            "506/506 [==============================] - 321s 628ms/step - loss: 0.6110 - accuracy: 0.8454 - top-3-accuracy: 0.9999 - val_loss: 0.6615 - val_accuracy: 0.8846 - val_top-3-accuracy: 1.0000\n",
            "Epoch 3/100\n",
            "506/506 [==============================] - 323s 634ms/step - loss: 0.6486 - accuracy: 0.8443 - top-3-accuracy: 1.0000 - val_loss: 0.4909 - val_accuracy: 0.8956 - val_top-3-accuracy: 1.0000\n",
            "Epoch 4/100\n",
            "506/506 [==============================] - 350s 686ms/step - loss: 0.6156 - accuracy: 0.8446 - top-3-accuracy: 0.9998 - val_loss: 0.4745 - val_accuracy: 0.8851 - val_top-3-accuracy: 1.0000\n",
            "Epoch 5/100\n",
            "506/506 [==============================] - 320s 628ms/step - loss: 0.6492 - accuracy: 0.8468 - top-3-accuracy: 0.9999 - val_loss: 0.7472 - val_accuracy: 0.8755 - val_top-3-accuracy: 1.0000\n",
            "Epoch 6/100\n",
            "506/506 [==============================] - 314s 616ms/step - loss: 0.6514 - accuracy: 0.8452 - top-3-accuracy: 0.9999 - val_loss: 0.6753 - val_accuracy: 0.8964 - val_top-3-accuracy: 1.0000\n",
            "Epoch 7/100\n",
            "506/506 [==============================] - 314s 615ms/step - loss: 0.5503 - accuracy: 0.8481 - top-3-accuracy: 0.9998 - val_loss: 0.5802 - val_accuracy: 0.8988 - val_top-3-accuracy: 1.0000\n",
            "Epoch 8/100\n",
            "506/506 [==============================] - 318s 623ms/step - loss: 0.5253 - accuracy: 0.8498 - top-3-accuracy: 1.0000 - val_loss: 0.4459 - val_accuracy: 0.8768 - val_top-3-accuracy: 1.0000\n",
            "Epoch 9/100\n",
            "506/506 [==============================] - 315s 617ms/step - loss: 0.4869 - accuracy: 0.8497 - top-3-accuracy: 1.0000 - val_loss: 0.5083 - val_accuracy: 0.8849 - val_top-3-accuracy: 1.0000\n",
            "Epoch 10/100\n",
            "506/506 [==============================] - 316s 619ms/step - loss: 0.4780 - accuracy: 0.8489 - top-3-accuracy: 1.0000 - val_loss: 0.5000 - val_accuracy: 0.8211 - val_top-3-accuracy: 1.0000\n",
            "Epoch 11/100\n",
            "506/506 [==============================] - 315s 615ms/step - loss: 0.4768 - accuracy: 0.8510 - top-3-accuracy: 1.0000 - val_loss: 0.4625 - val_accuracy: 0.8507 - val_top-3-accuracy: 1.0000\n",
            "Epoch 12/100\n",
            "506/506 [==============================] - 319s 626ms/step - loss: 0.4422 - accuracy: 0.8514 - top-3-accuracy: 1.0000 - val_loss: 0.4018 - val_accuracy: 0.9076 - val_top-3-accuracy: 1.0000\n",
            "Epoch 13/100\n",
            "506/506 [==============================] - 316s 621ms/step - loss: 0.4050 - accuracy: 0.8553 - top-3-accuracy: 1.0000 - val_loss: 0.6101 - val_accuracy: 0.7783 - val_top-3-accuracy: 1.0000\n",
            "Epoch 14/100\n",
            "506/506 [==============================] - 316s 619ms/step - loss: 0.4391 - accuracy: 0.8518 - top-3-accuracy: 1.0000 - val_loss: 0.5458 - val_accuracy: 0.8915 - val_top-3-accuracy: 1.0000\n",
            "Epoch 15/100\n",
            "506/506 [==============================] - 319s 625ms/step - loss: 0.4238 - accuracy: 0.8527 - top-3-accuracy: 1.0000 - val_loss: 0.3647 - val_accuracy: 0.9036 - val_top-3-accuracy: 1.0000\n",
            "Epoch 16/100\n",
            "506/506 [==============================] - 312s 613ms/step - loss: 0.4159 - accuracy: 0.8532 - top-3-accuracy: 1.0000 - val_loss: 0.3896 - val_accuracy: 0.8922 - val_top-3-accuracy: 1.0000\n",
            "Epoch 17/100\n",
            "506/506 [==============================] - 342s 671ms/step - loss: 0.4293 - accuracy: 0.8525 - top-3-accuracy: 1.0000 - val_loss: 0.5280 - val_accuracy: 0.8526 - val_top-3-accuracy: 1.0000\n",
            "Epoch 18/100\n",
            "506/506 [==============================] - 313s 613ms/step - loss: 0.4200 - accuracy: 0.8548 - top-3-accuracy: 1.0000 - val_loss: 0.3792 - val_accuracy: 0.9052 - val_top-3-accuracy: 1.0000\n",
            "Epoch 19/100\n",
            "506/506 [==============================] - 312s 612ms/step - loss: 0.4111 - accuracy: 0.8559 - top-3-accuracy: 1.0000 - val_loss: 0.4268 - val_accuracy: 0.8719 - val_top-3-accuracy: 1.0000\n",
            "Epoch 20/100\n",
            "506/506 [==============================] - 312s 612ms/step - loss: 0.4171 - accuracy: 0.8551 - top-3-accuracy: 1.0000 - val_loss: 0.6357 - val_accuracy: 0.7915 - val_top-3-accuracy: 1.0000\n",
            "Epoch 21/100\n",
            "506/506 [==============================] - 341s 669ms/step - loss: 0.4282 - accuracy: 0.8586 - top-3-accuracy: 1.0000 - val_loss: 0.4429 - val_accuracy: 0.9105 - val_top-3-accuracy: 1.0000\n",
            "Epoch 22/100\n",
            "506/506 [==============================] - 309s 606ms/step - loss: 0.4226 - accuracy: 0.8575 - top-3-accuracy: 1.0000 - val_loss: 0.3973 - val_accuracy: 0.9056 - val_top-3-accuracy: 1.0000\n",
            "Epoch 23/100\n",
            "506/506 [==============================] - 309s 606ms/step - loss: 0.3991 - accuracy: 0.8585 - top-3-accuracy: 1.0000 - val_loss: 0.4963 - val_accuracy: 0.8319 - val_top-3-accuracy: 1.0000\n",
            "Epoch 24/100\n",
            "506/506 [==============================] - 309s 606ms/step - loss: 0.3974 - accuracy: 0.8582 - top-3-accuracy: 1.0000 - val_loss: 0.3746 - val_accuracy: 0.9119 - val_top-3-accuracy: 1.0000\n",
            "Epoch 25/100\n",
            "506/506 [==============================] - 310s 608ms/step - loss: 0.4267 - accuracy: 0.8591 - top-3-accuracy: 1.0000 - val_loss: 0.4314 - val_accuracy: 0.8897 - val_top-3-accuracy: 1.0000\n",
            "Epoch 26/100\n",
            "506/506 [==============================] - 340s 668ms/step - loss: 0.4276 - accuracy: 0.8593 - top-3-accuracy: 1.0000 - val_loss: 0.4285 - val_accuracy: 0.9092 - val_top-3-accuracy: 1.0000\n",
            "Epoch 27/100\n",
            "506/506 [==============================] - 312s 611ms/step - loss: 0.4330 - accuracy: 0.8587 - top-3-accuracy: 1.0000 - val_loss: 0.4548 - val_accuracy: 0.9076 - val_top-3-accuracy: 1.0000\n",
            "Epoch 28/100\n",
            "506/506 [==============================] - 311s 610ms/step - loss: 0.4322 - accuracy: 0.8603 - top-3-accuracy: 1.0000 - val_loss: 0.8044 - val_accuracy: 0.6284 - val_top-3-accuracy: 1.0000\n",
            "Epoch 29/100\n",
            "506/506 [==============================] - 316s 619ms/step - loss: 0.4064 - accuracy: 0.8626 - top-3-accuracy: 1.0000 - val_loss: 0.3442 - val_accuracy: 0.9092 - val_top-3-accuracy: 1.0000\n",
            "Epoch 30/100\n",
            "506/506 [==============================] - 340s 667ms/step - loss: 0.4218 - accuracy: 0.8614 - top-3-accuracy: 1.0000 - val_loss: 0.5098 - val_accuracy: 0.9101 - val_top-3-accuracy: 1.0000\n",
            "Epoch 31/100\n",
            "506/506 [==============================] - 315s 613ms/step - loss: 0.4167 - accuracy: 0.8616 - top-3-accuracy: 1.0000 - val_loss: 0.3739 - val_accuracy: 0.8919 - val_top-3-accuracy: 1.0000\n",
            "Epoch 32/100\n",
            "506/506 [==============================] - 313s 613ms/step - loss: 0.4066 - accuracy: 0.8618 - top-3-accuracy: 1.0000 - val_loss: 0.3571 - val_accuracy: 0.8983 - val_top-3-accuracy: 1.0000\n",
            "Epoch 33/100\n",
            "506/506 [==============================] - 341s 669ms/step - loss: 0.4208 - accuracy: 0.8610 - top-3-accuracy: 1.0000 - val_loss: 0.4608 - val_accuracy: 0.8522 - val_top-3-accuracy: 1.0000\n",
            "Epoch 34/100\n",
            "506/506 [==============================] - 311s 611ms/step - loss: 0.4295 - accuracy: 0.8625 - top-3-accuracy: 1.0000 - val_loss: 0.4954 - val_accuracy: 0.8831 - val_top-3-accuracy: 1.0000\n",
            "Epoch 35/100\n",
            "506/506 [==============================] - 341s 669ms/step - loss: 0.5125 - accuracy: 0.8592 - top-3-accuracy: 1.0000 - val_loss: 0.3995 - val_accuracy: 0.9059 - val_top-3-accuracy: 1.0000\n",
            "Epoch 36/100\n",
            "506/506 [==============================] - 341s 669ms/step - loss: 0.4650 - accuracy: 0.8619 - top-3-accuracy: 1.0000 - val_loss: 0.4108 - val_accuracy: 0.9114 - val_top-3-accuracy: 1.0000\n",
            "Epoch 37/100\n",
            "506/506 [==============================] - 341s 668ms/step - loss: 0.4398 - accuracy: 0.8628 - top-3-accuracy: 1.0000 - val_loss: 0.4106 - val_accuracy: 0.8989 - val_top-3-accuracy: 1.0000\n",
            "Epoch 38/100\n",
            "506/506 [==============================] - 313s 613ms/step - loss: 0.4517 - accuracy: 0.8633 - top-3-accuracy: 1.0000 - val_loss: 0.6044 - val_accuracy: 0.8170 - val_top-3-accuracy: 1.0000\n",
            "Epoch 39/100\n",
            "506/506 [==============================] - 341s 668ms/step - loss: 0.4701 - accuracy: 0.8651 - top-3-accuracy: 1.0000 - val_loss: 0.3696 - val_accuracy: 0.9050 - val_top-3-accuracy: 1.0000\n",
            "Epoch 40/100\n",
            "506/506 [==============================] - 311s 611ms/step - loss: 0.4267 - accuracy: 0.8657 - top-3-accuracy: 1.0000 - val_loss: 0.3891 - val_accuracy: 0.9058 - val_top-3-accuracy: 1.0000\n",
            "Epoch 41/100\n",
            "506/506 [==============================] - 341s 668ms/step - loss: 0.4074 - accuracy: 0.8676 - top-3-accuracy: 1.0000 - val_loss: 0.4075 - val_accuracy: 0.8735 - val_top-3-accuracy: 1.0000\n",
            "Epoch 42/100\n",
            "506/506 [==============================] - 311s 609ms/step - loss: 0.4411 - accuracy: 0.8656 - top-3-accuracy: 1.0000 - val_loss: 0.5149 - val_accuracy: 0.9096 - val_top-3-accuracy: 1.0000\n",
            "Epoch 43/100\n",
            "506/506 [==============================] - 339s 665ms/step - loss: 0.4277 - accuracy: 0.8652 - top-3-accuracy: 1.0000 - val_loss: 0.7102 - val_accuracy: 0.6519 - val_top-3-accuracy: 1.0000\n",
            "Epoch 44/100\n",
            "506/506 [==============================] - 308s 604ms/step - loss: 0.4286 - accuracy: 0.8647 - top-3-accuracy: 1.0000 - val_loss: 0.4465 - val_accuracy: 0.8934 - val_top-3-accuracy: 1.0000\n",
            "Epoch 45/100\n",
            "506/506 [==============================] - 309s 605ms/step - loss: 0.4538 - accuracy: 0.8637 - top-3-accuracy: 1.0000 - val_loss: 0.4791 - val_accuracy: 0.8874 - val_top-3-accuracy: 1.0000\n",
            "Epoch 46/100\n",
            "506/506 [==============================] - 308s 604ms/step - loss: 0.4239 - accuracy: 0.8681 - top-3-accuracy: 1.0000 - val_loss: 0.4005 - val_accuracy: 0.8990 - val_top-3-accuracy: 1.0000\n",
            "Epoch 47/100\n",
            "506/506 [==============================] - 340s 666ms/step - loss: 0.5084 - accuracy: 0.8623 - top-3-accuracy: 1.0000 - val_loss: 0.4283 - val_accuracy: 0.9081 - val_top-3-accuracy: 1.0000\n",
            "Epoch 48/100\n",
            "506/506 [==============================] - 339s 666ms/step - loss: 0.4315 - accuracy: 0.8668 - top-3-accuracy: 1.0000 - val_loss: 0.4201 - val_accuracy: 0.9073 - val_top-3-accuracy: 1.0000\n",
            "Epoch 49/100\n",
            "506/506 [==============================] - 339s 666ms/step - loss: 0.4427 - accuracy: 0.8672 - top-3-accuracy: 1.0000 - val_loss: 0.4924 - val_accuracy: 0.8879 - val_top-3-accuracy: 1.0000\n",
            "Epoch 50/100\n",
            "506/506 [==============================] - 339s 665ms/step - loss: 0.4617 - accuracy: 0.8671 - top-3-accuracy: 1.0000 - val_loss: 0.4884 - val_accuracy: 0.8631 - val_top-3-accuracy: 1.0000\n",
            "Epoch 51/100\n",
            "506/506 [==============================] - 309s 606ms/step - loss: 0.5107 - accuracy: 0.8668 - top-3-accuracy: 1.0000 - val_loss: 0.4625 - val_accuracy: 0.8890 - val_top-3-accuracy: 1.0000\n",
            "Epoch 52/100\n",
            "506/506 [==============================] - 311s 609ms/step - loss: 0.4667 - accuracy: 0.8708 - top-3-accuracy: 1.0000 - val_loss: 0.4309 - val_accuracy: 0.8975 - val_top-3-accuracy: 1.0000\n",
            "Epoch 53/100\n",
            "506/506 [==============================] - 339s 666ms/step - loss: 0.4213 - accuracy: 0.8691 - top-3-accuracy: 1.0000 - val_loss: 0.4313 - val_accuracy: 0.9043 - val_top-3-accuracy: 1.0000\n",
            "Epoch 54/100\n",
            "506/506 [==============================] - 340s 666ms/step - loss: 0.4317 - accuracy: 0.8701 - top-3-accuracy: 1.0000 - val_loss: 0.4361 - val_accuracy: 0.9003 - val_top-3-accuracy: 1.0000\n",
            "Epoch 55/100\n",
            "506/506 [==============================] - 309s 606ms/step - loss: 0.4374 - accuracy: 0.8699 - top-3-accuracy: 1.0000 - val_loss: 0.4425 - val_accuracy: 0.8827 - val_top-3-accuracy: 1.0000\n",
            "Epoch 56/100\n",
            "506/506 [==============================] - 339s 666ms/step - loss: 0.4821 - accuracy: 0.8697 - top-3-accuracy: 1.0000 - val_loss: 0.4750 - val_accuracy: 0.8851 - val_top-3-accuracy: 1.0000\n",
            "Epoch 57/100\n",
            "506/506 [==============================] - 309s 606ms/step - loss: 0.4637 - accuracy: 0.8694 - top-3-accuracy: 1.0000 - val_loss: 0.4234 - val_accuracy: 0.8822 - val_top-3-accuracy: 1.0000\n",
            "Epoch 58/100\n",
            "506/506 [==============================] - 309s 605ms/step - loss: 0.4605 - accuracy: 0.8706 - top-3-accuracy: 1.0000 - val_loss: 0.4460 - val_accuracy: 0.8915 - val_top-3-accuracy: 1.0000\n",
            "Epoch 59/100\n",
            "506/506 [==============================] - 339s 665ms/step - loss: 0.4677 - accuracy: 0.8686 - top-3-accuracy: 1.0000 - val_loss: 0.5399 - val_accuracy: 0.8037 - val_top-3-accuracy: 1.0000\n"
          ]
        },
        {
          "output_type": "display_data",
          "data": {
            "text/plain": [
              "<Figure size 432x288 with 1 Axes>"
            ],
            "image/png": "[encoded data removed]"
          },
          "metadata": {
            "needs_background": "light"
          }
        },
        {
          "output_type": "display_data",
          "data": {
            "text/plain": [
              "<Figure size 432x288 with 1 Axes>"
            ],
            "image/png": "[encoded data removed]"
          },
          "metadata": {
            "needs_background": "light"
          }
        }
      ],
      "source": [
        "from keras import regularizers\n",
        "import seaborn as sns\n",
        "%matplotlib inline\n",
        "import seaborn as sns\n",
        "from tensorflow.keras.layers import Flatten,Dense,Dropout,BatchNormalization,Conv2D,MaxPooling2D\n",
        "from tensorflow.keras.models import Sequential\n",
        "from tensorflow.keras.metrics import Recall\n",
        "from tensorflow.keras.optimizers import RMSprop\n",
        "from tensorflow.keras.callbacks import EarlyStopping,ReduceLROnPlateau\n",
        "from sklearn.metrics import classification_report,confusion_matrix\n",
        "\n",
        "input_shape=(image_size,image_size,3)\n",
        "\n",
        "model=Sequential()\n",
        "\n",
        "\n",
        "model.add(Conv2D(64,(3,3),input_shape=(image_size,image_size,3),activation='relu'))\n",
        "model.add(MaxPooling2D(pool_size=(2, 2)))\n",
        "model.add(BatchNormalization())\n",
        "\n",
        "\n",
        "model.add(Conv2D(512,(3,3),input_shape=(image_size,image_size,3),activation='relu'))\n",
        "model.add(MaxPooling2D(pool_size=(2, 2)))\n",
        "\n",
        "\n",
        "\n",
        "model.add(Dropout(0.3))\n",
        "\n",
        "model.add(Conv2D(1024,(3,3),input_shape=(image_size,image_size,3),activation='relu'))\n",
        "model.add(MaxPooling2D(pool_size=(2, 2)))\n",
        "model.add(BatchNormalization())\n",
        "\n",
        "\n",
        "model.add(Dropout(0.4))\n",
        "\n",
        "model.add(Conv2D(1024,(1,1),input_shape=(image_size,image_size,3),activation='relu'))\n",
        "model.add(MaxPooling2D(pool_size=(1, 1)))\n",
        "\n",
        "\n",
        "\n",
        "model.add(Dropout(0.4))\n",
        "\n",
        "model.add(Flatten())\n",
        "model.add(Dense(256,activation='relu',kernel_regularizer=regularizers.l2(0.01)))\n",
        "model.add(Dropout(0.5))\n",
        "\n",
        "\n",
        "model.add(Dense(9,activation='softmax'))\n",
        "\n",
        "model.compile(\n",
        "    optimizer='adam',\n",
        "    loss=keras.losses.SparseCategoricalCrossentropy(from_logits = False),\n",
        "    metrics=[\n",
        "        keras.metrics.SparseCategoricalAccuracy(name=\"accuracy\"),\n",
        "        keras.metrics.SparseTopKCategoricalAccuracy(3, name=\"top-3-accuracy\"),\n",
        "    ],\n",
        ")\n",
        "model.summary()\n",
        "\n",
        "history = model.fit(train_generator, \n",
        "                     batch_size = batch_size,\n",
        "                     epochs=num_epochs,\n",
        "                     use_multiprocessing=True,\n",
        "                     validation_data = valid_generator,\n",
        "                     callbacks=callbacks, \n",
        "                     #class_weight = weights, \n",
        "                     workers=6)\n",
        "\n",
        "model.save('resnet50_multi_final.h5') \n",
        "shutil.copy('resnet50_multi_final.h5', '/content/drive/MyDrive/melanoma_data/models')\n",
        "\n",
        "\n",
        "plt.plot(history.history['accuracy'])\n",
        "plt.plot(history.history['val_accuracy'])\n",
        "plt.title('model accuracy')\n",
        "plt.ylabel('accuracy')\n",
        "plt.xlabel('epoch')\n",
        "plt.legend(['train', 'val'], loc='upper left')\n",
        "plt.show()\n",
        "\n",
        "plt.plot(history.history['loss'])\n",
        "plt.plot(history.history['val_loss'])\n",
        "plt.title('model loss')\n",
        "plt.ylabel('loss')\n",
        "plt.xlabel('epoch')\n",
        "plt.legend(['train', 'val'], loc='upper left')\n",
        "plt.show()"
      ]
    },
    {
      "cell_type": "code",
      "source": [
        "from sklearn.metrics import precision_recall_curve, auc, average_precision_score, roc_auc_score\n",
        "from sklearn.preprocessing import LabelBinarizer\n",
        "from sklearn.metrics import PrecisionRecallDisplay\n",
        "\n",
        "\n",
        "\n",
        "ypred = model.predict(valid_generator)\n",
        "ypred = ypred.argmax(axis=-1)\n",
        "\n",
        "precision, recall, _ = precision_recall_curve(valid_generator.labels, ypred)\n",
        "print('AP:', average_precision_score(valid_generator.labels, ypred, average='macro'))\n",
        "print('ROC:', roc_auc_score(valid_generator.labels, ypred))\n",
        "print('AUC:', auc(recall, precision))"
      ],
      "metadata": {
        "colab": {
          "base_uri": "https://localhost:8080/"
        },
        "id": "Dy_LbmyLR6gN",
        "outputId": "300e6522-d701-4ae7-9e56-b372670fa53f"
      },
      "execution_count": null,
      "outputs": [
        {
          "output_type": "stream",
          "name": "stdout",
          "text": [
            "AP: 0.09065272050688926\n",
            "ROC: 0.4951283637488402\n",
            "AUC: 0.18262683007428054\n"
          ]
        }
      ]
    }
  ],
  "metadata": {
    "accelerator": "GPU",
    "colab": {
      "collapsed_sections": [],
      "name": "standard_cnn_binary.ipynb",
      "provenance": [],
      "mount_file_id": "1czIZFLZbCq7acKlWUZH7Db6tubq3mH9B",
      "authorship_tag": "ABX9TyNrq1+FVk78hfDoqFDEdhms",
      "include_colab_link": true
    },
    "kernelspec": {
      "display_name": "Python 3",
      "name": "python3"
    },
    "language_info": {
      "name": "python"
    }
  },
  "nbformat": 4,
  "nbformat_minor": 0
}
