{
  "nbformat": 4,
  "nbformat_minor": 0,
  "metadata": {
    "colab": {
      "name": "randomforest_binary.ipynb",
      "provenance": [],
      "mount_file_id": "1uKa58ADEwmFOSZTcQXZagkXpDOJf-HAI",
      "authorship_tag": "ABX9TyPEX3BxbhCRkshVFR7LuVIG",
      "include_colab_link": true
    },
    "kernelspec": {
      "name": "python3",
      "display_name": "Python 3"
    },
    "language_info": {
      "name": "python"
    }
  },
  "cells": [
    {
      "cell_type": "markdown",
      "metadata": {
        "id": "view-in-github",
        "colab_type": "text"
      },
      "source": [
        "<a href=\"https://colab.research.google.com/github/andrewpark19/4thyear-FYP/blob/main/randomforest_binary.ipynb\" target=\"_parent\"><img src=\"https://colab.research.google.com/assets/colab-badge.svg\" alt=\"Open In Colab\"/></a>"
      ]
    },
    {
      "cell_type": "code",
      "execution_count": null,
      "metadata": {
        "id": "fzsWx3ic2_QX"
      },
      "outputs": [],
      "source": [
        "from tensorflow import keras\n",
        "import matplotlib.pyplot as plt\n",
        "import glob\n",
        "import shutil\n",
        "import os\n",
        "import pandas as pd"
      ]
    },
    {
      "cell_type": "code",
      "source": [
        "!unzip /content/drive/MyDrive/melanoma_data/isic_2020/train_2020/train_2020.zip > /dev/null\n",
        "!unzip /content/drive/MyDrive/melanoma_data/isic_2020/test_2020/test_2020.zip > /dev/null\n",
        "!unzip /content/drive/MyDrive/melanoma_data/isic_2019/train_2019/train_2019.zip > /dev/null\n"
      ],
      "metadata": {
        "id": "AltVvjUk3DYg"
      },
      "execution_count": null,
      "outputs": []
    },
    {
      "cell_type": "code",
      "source": [
        "train2020_dir = '/content/train_2020'\n",
        "test2020_dir = '/content/test_2020'\n",
        "train2019_dir = '/content/train_2019' \n",
        "data_dir = '/content/drive/MyDrive/melanoma_data'\n",
        "\n",
        "def get_df(data_dir, train2020_dir, test2020_dir, train2019_dir, use_meta=False):\n",
        "\n",
        "    ###Training Data\n",
        "    #2020 Data\n",
        "    df_train = pd.read_csv(os.path.join(data_dir, r'isic_2020','train_2020.csv')) #path to train_2020.csv\n",
        "    df_train['filepath'] = df_train['image_name'].apply(lambda x: os.path.join(train2020_dir, f'{x}.jpg'))\n",
        "\n",
        "    # #2019 data\n",
        "    df_train2 = pd.read_csv(os.path.join(data_dir, r'isic_2019', 'train_2019.csv')) #path to train_2019.csv\n",
        "    df_train2['filepath'] = df_train2['image_name'].apply(lambda x: os.path.join(train2019_dir, f'{x}.jpg'))\n",
        "\n",
        "    # #Change Labels to match\n",
        "    df_train['diagnosis']  = df_train['diagnosis'].apply(lambda x: x.replace('seborrheic keratosis', 'BKL'))\n",
        "    df_train['diagnosis']  = df_train['diagnosis'].apply(lambda x: x.replace('lichenoid keratosis', 'BKL'))\n",
        "    df_train['diagnosis']  = df_train['diagnosis'].apply(lambda x: x.replace('solar lentigo', 'BKL'))\n",
        "    df_train['diagnosis']  = df_train['diagnosis'].apply(lambda x: x.replace('lentigo NOS', 'BKL'))\n",
        "    df_train['diagnosis']  = df_train['diagnosis'].apply(lambda x: x.replace('cafe-au-lait macule', 'unknown'))\n",
        "    df_train['diagnosis']  = df_train['diagnosis'].apply(lambda x: x.replace('atypical melanocytic proliferation', 'unknown'))\n",
        "\n",
        "    df_train2['diagnosis'] = df_train2['diagnosis'].apply(lambda x: x.replace('NV', 'nevus'))\n",
        "    df_train2['diagnosis'] = df_train2['diagnosis'].apply(lambda x: x.replace('MEL', 'melanoma'))\n",
        "\n",
        "    df_train = pd.concat([df_train, df_train2]).reset_index(drop=True)\n",
        "\n",
        "    # ###Test Data\n",
        "    df_test = pd.read_csv(os.path.join(data_dir,r'isic_2020', 'test_2020.csv'))\n",
        "    df_test['filepath'] = df_test['image_name'].apply(lambda x: os.path.join(test2020_dir, f'{x}.jpg'))\n",
        "\n",
        "    if use_meta:\n",
        "        df_train, df_test, meta_features, n_meta_features = get_meta_data(df_train, df_test)\n",
        "    else:\n",
        "        meta_features = None\n",
        "        n_meta_features = 0\n",
        "\n",
        "    diagnosis2idx = {d: idx for idx, d in enumerate(sorted(df_train.diagnosis.unique()))}\n",
        "    df_train['target'] = df_train['diagnosis'].map(diagnosis2idx)\n",
        "    mel_idx = diagnosis2idx['melanoma']\n",
        "\n",
        "    return df_train, df_test, meta_features, n_meta_features, mel_idx\n",
        "  \n",
        "\n",
        "df_train, df_test, _, _, mel_idx = get_df(data_dir, train2020_dir, test2020_dir, train2019_dir, use_meta=False)"
      ],
      "metadata": {
        "id": "GvV1ioIx3FYz"
      },
      "execution_count": null,
      "outputs": []
    },
    {
      "cell_type": "code",
      "source": [
        "df_train.loc[df_train.diagnosis == 'BCC', 'benign_malignant'] = 'malignant' \n",
        "df_train.loc[df_train.diagnosis == 'SCC', 'benign_malignant'] = 'malignant' "
      ],
      "metadata": {
        "id": "7jTm26Ze3Hek"
      },
      "execution_count": null,
      "outputs": []
    },
    {
      "cell_type": "code",
      "source": [
        "from keras.preprocessing.image import ImageDataGenerator\n",
        "\n",
        "train_datagen = ImageDataGenerator(horizontal_flip=True,\n",
        "                                   vertical_flip=True,\n",
        "                                   rescale=1/255.0,\n",
        "                                   validation_split = 0.3\n",
        "                                   )"
      ],
      "metadata": {
        "id": "HVMxThMT3KNe"
      },
      "execution_count": null,
      "outputs": []
    },
    {
      "cell_type": "code",
      "source": [
        "SEED = 42\n",
        "\n",
        "num_classes = 2\n",
        "input_shape = (72, 72, 3)\n",
        "\n",
        "learning_rate = 0.001\n",
        "weight_decay = 0.0001\n",
        "batch_size = 32\n",
        "patience= 5\n",
        "num_epochs = 40\n",
        "image_size = 72  # We'll resize input images to this size"
      ],
      "metadata": {
        "id": "MTxsG0pH3K49"
      },
      "execution_count": null,
      "outputs": []
    },
    {
      "cell_type": "code",
      "source": [
        "generator = train_datagen.flow_from_dataframe(     \n",
        "    dataframe=df_train,  \n",
        "    directory=None,\n",
        "    x_col='filepath', # name of col in data frame that contains file names\n",
        "    y_col=\"benign_malignant\", # name of col with labels \n",
        "    batch_size=42997,\n",
        "    shuffle=True,\n",
        "    #save_to_dir=saveDir,\n",
        "    target_size=(image_size, image_size),\n",
        "    color_mode='rgb',\n",
        "    class_mode='sparse'\n",
        ")\n",
        "\n",
        "\n",
        "imgs,labels = next(generator)\n",
        "print(f\"imgs.shape:{imgs.shape},labels.shape:{labels.shape}\")\n"
      ],
      "metadata": {
        "colab": {
          "base_uri": "https://localhost:8080/"
        },
        "id": "GqkFpxhV3Mcx",
        "outputId": "13272fe5-73e0-4144-8983-add80fdc6c89"
      },
      "execution_count": null,
      "outputs": [
        {
          "output_type": "stream",
          "name": "stderr",
          "text": [
            "/usr/local/lib/python3.7/dist-packages/keras_preprocessing/image/dataframe_iterator.py:282: UserWarning: Found 15460 invalid image filename(s) in x_col=\"filepath\". These filename(s) will be ignored.\n",
            "  .format(n_invalid, x_col)\n"
          ]
        },
        {
          "output_type": "stream",
          "name": "stdout",
          "text": [
            "Found 42997 validated image filenames belonging to 2 classes.\n",
            "imgs.shape:(42997, 72, 72, 3),labels.shape:(42997,)\n"
          ]
        }
      ]
    },
    {
      "cell_type": "code",
      "source": [
        "from sklearn.model_selection import train_test_split\n",
        "\n",
        "X_train, X_val, y_train, y_val = train_test_split(imgs,labels, test_size=0.25,stratify=labels,random_state=SEED)\n",
        "print(f\"X_train.shape:{X_train.shape},X_val.shape:{X_val.shape}\")\n",
        "print(f\"y_train.shape:{y_train.shape},y_val.shape:{y_val.shape}\")"
      ],
      "metadata": {
        "colab": {
          "base_uri": "https://localhost:8080/"
        },
        "id": "0ekACXYM3Pwe",
        "outputId": "6dc15272-4737-40a2-c521-76784392148f"
      },
      "execution_count": null,
      "outputs": [
        {
          "output_type": "stream",
          "name": "stdout",
          "text": [
            "X_train.shape:(32247, 72, 72, 3),X_val.shape:(10750, 72, 72, 3)\n",
            "y_train.shape:(32247,),y_val.shape:(10750,)\n"
          ]
        }
      ]
    },
    {
      "cell_type": "code",
      "source": [
        "from sklearn.ensemble import RandomForestClassifier\n",
        "from sklearn.metrics import average_precision_score,confusion_matrix,classification_report, accuracy_score, f1_score\n",
        "\n",
        "\n",
        "nsamples, nx, ny, nrgb = X_train.shape\n",
        "X_train2 = X_train.reshape((nsamples,nx*ny*nrgb))\n",
        "\n",
        "nsamples, nx, ny, nrgb = X_val.shape\n",
        "X_val2 = X_val.reshape((nsamples,nx*ny*nrgb))\n",
        "\n",
        "model=RandomForestClassifier()\n",
        "model.fit(X_train2, y_train)\n",
        "\n",
        "y_pred=model.predict(X_val2)\n"
      ],
      "metadata": {
        "id": "j0p4DQVG3RuD"
      },
      "execution_count": null,
      "outputs": []
    },
    {
      "cell_type": "code",
      "source": [
        "from sklearn.metrics import average_precision_score,classification_report, accuracy_score, precision_recall_curve, roc_auc_score, auc\n",
        "print('AP:', average_precision_score(y_pred,y_val))\n",
        "print('ROC:', roc_auc_score(y_pred, y_val))\n",
        "\n",
        "precision, recall, thresholds = precision_recall_curve(y_pred, y_val)\n",
        "print('AUC: ', auc(recall, precision))\n",
        "print('Accuracy:', accuracy_score(y_pred,y_val))\n",
        "print(classification_report(y_pred,y_val))"
      ],
      "metadata": {
        "colab": {
          "base_uri": "https://localhost:8080/"
        },
        "id": "6iExFVDS3SGR",
        "outputId": "31a98cea-e80f-4f69-faee-5950da65216d"
      },
      "execution_count": null,
      "outputs": [
        {
          "output_type": "stream",
          "name": "stdout",
          "text": [
            "AP: 0.26546766369527725\n",
            "ROC: 0.7909257732507113\n",
            "AUC:  0.5330906561116886\n",
            "Accuracy: 0.8718139534883721\n",
            "              precision    recall  f1-score   support\n",
            "\n",
            "         0.0       0.97      0.89      0.93      9895\n",
            "         1.0       0.35      0.69      0.46       855\n",
            "\n",
            "    accuracy                           0.87     10750\n",
            "   macro avg       0.66      0.79      0.70     10750\n",
            "weighted avg       0.92      0.87      0.89     10750\n",
            "\n"
          ]
        }
      ]
    }
  ]
}
