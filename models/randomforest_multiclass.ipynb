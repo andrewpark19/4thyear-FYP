{
  "nbformat": 4,
  "nbformat_minor": 0,
  "metadata": {
    "colab": {
      "name": "randomforest_multiclass.ipynb",
      "provenance": [],
      "collapsed_sections": [],
      "mount_file_id": "1IObQfhFcJwXiiIYmfM8W7gRhyZKKF_HL",
      "authorship_tag": "ABX9TyPRMXzyzhKFuvzCGZzBgXOr",
      "include_colab_link": true
    },
    "kernelspec": {
      "name": "python3",
      "display_name": "Python 3"
    },
    "language_info": {
      "name": "python"
    }
  },
  "cells": [
    {
      "cell_type": "markdown",
      "metadata": {
        "id": "view-in-github",
        "colab_type": "text"
      },
      "source": [
        "<a href=\"https://colab.research.google.com/github/andrewpark19/4thyear-FYP/blob/main/randomforest_multiclass.ipynb\" target=\"_parent\"><img src=\"https://colab.research.google.com/assets/colab-badge.svg\" alt=\"Open In Colab\"/></a>"
      ]
    },
    {
      "cell_type": "code",
      "source": [
        "from tensorflow import keras\n",
        "import matplotlib.pyplot as plt\n",
        "import glob\n",
        "import shutil\n",
        "import os\n",
        "import pandas as pd"
      ],
      "metadata": {
        "id": "yTPVC5oQeh0x"
      },
      "execution_count": null,
      "outputs": []
    },
    {
      "cell_type": "code",
      "source": [
        "!unzip /content/drive/MyDrive/melanoma_data/isic_2020/train_2020/train_2020.zip > /dev/null\n",
        "!unzip /content/drive/MyDrive/melanoma_data/isic_2020/test_2020/test_2020.zip > /dev/null\n",
        "!unzip /content/drive/MyDrive/melanoma_data/isic_2019/train_2019/train_2019.zip > /dev/null\n"
      ],
      "metadata": {
        "id": "vwl4z0qAAwtT"
      },
      "execution_count": null,
      "outputs": []
    },
    {
      "cell_type": "code",
      "execution_count": null,
      "metadata": {
        "id": "xENxztaceXKf"
      },
      "outputs": [],
      "source": [
        "train2020_dir = '/content/train_2020'\n",
        "test2020_dir = '/content/test_2020'\n",
        "train2019_dir = '/content/train_2019' \n",
        "data_dir = '/content/drive/MyDrive/melanoma_data'\n",
        "\n",
        "def get_df(data_dir, train2020_dir, test2020_dir, train2019_dir, use_meta=False):\n",
        "\n",
        "    ###Training Data\n",
        "    #2020 Data\n",
        "    df_train = pd.read_csv(os.path.join(data_dir, r'isic_2020','train_2020.csv')) #path to train_2020.csv\n",
        "    df_train['filepath'] = df_train['image_name'].apply(lambda x: os.path.join(train2020_dir, f'{x}.jpg'))\n",
        "\n",
        "    # #2019 data\n",
        "    df_train2 = pd.read_csv(os.path.join(data_dir, r'isic_2019', 'train_2019.csv')) #path to train_2019.csv\n",
        "    df_train2['filepath'] = df_train2['image_name'].apply(lambda x: os.path.join(train2019_dir, f'{x}.jpg'))\n",
        "\n",
        "    # #Change Labels to match\n",
        "    df_train['diagnosis']  = df_train['diagnosis'].apply(lambda x: x.replace('seborrheic keratosis', 'BKL'))\n",
        "    df_train['diagnosis']  = df_train['diagnosis'].apply(lambda x: x.replace('lichenoid keratosis', 'BKL'))\n",
        "    df_train['diagnosis']  = df_train['diagnosis'].apply(lambda x: x.replace('solar lentigo', 'BKL'))\n",
        "    df_train['diagnosis']  = df_train['diagnosis'].apply(lambda x: x.replace('lentigo NOS', 'BKL'))\n",
        "    df_train['diagnosis']  = df_train['diagnosis'].apply(lambda x: x.replace('cafe-au-lait macule', 'unknown'))\n",
        "    df_train['diagnosis']  = df_train['diagnosis'].apply(lambda x: x.replace('atypical melanocytic proliferation', 'unknown'))\n",
        "\n",
        "    df_train2['diagnosis'] = df_train2['diagnosis'].apply(lambda x: x.replace('NV', 'nevus'))\n",
        "    df_train2['diagnosis'] = df_train2['diagnosis'].apply(lambda x: x.replace('MEL', 'melanoma'))\n",
        "\n",
        "    df_train = pd.concat([df_train, df_train2]).reset_index(drop=True)\n",
        "\n",
        "    # ###Test Data\n",
        "    df_test = pd.read_csv(os.path.join(data_dir,r'isic_2020', 'test_2020.csv'))\n",
        "    df_test['filepath'] = df_test['image_name'].apply(lambda x: os.path.join(test2020_dir, f'{x}.jpg'))\n",
        "\n",
        "    if use_meta:\n",
        "        df_train, df_test, meta_features, n_meta_features = get_meta_data(df_train, df_test)\n",
        "    else:\n",
        "        meta_features = None\n",
        "        n_meta_features = 0\n",
        "\n",
        "    diagnosis2idx = {d: idx for idx, d in enumerate(sorted(df_train.diagnosis.unique()))}\n",
        "    df_train['target'] = df_train['diagnosis'].map(diagnosis2idx)\n",
        "    mel_idx = diagnosis2idx['melanoma']\n",
        "\n",
        "    return df_train, df_test, meta_features, n_meta_features, mel_idx\n",
        "  \n",
        "\n",
        "df_train, df_test, _, _, mel_idx = get_df(data_dir, train2020_dir, test2020_dir, train2019_dir, use_meta=False)"
      ]
    },
    {
      "cell_type": "code",
      "source": [
        "from keras.preprocessing.image import ImageDataGenerator\n",
        "\n",
        "train_datagen = ImageDataGenerator(horizontal_flip=True,\n",
        "                                   vertical_flip=True,\n",
        "                                   rescale=1/255.0\n",
        "                                   )"
      ],
      "metadata": {
        "id": "bWgqvWgNEJZD"
      },
      "execution_count": null,
      "outputs": []
    },
    {
      "cell_type": "code",
      "source": [
        "SEED = 42\n",
        "\n",
        "num_classes = 9\n",
        "input_shape = (72, 72, 3)\n",
        "\n",
        "learning_rate = 0.001\n",
        "weight_decay = 0.0001\n",
        "batch_size = 32\n",
        "patience= 5\n",
        "num_epochs = 40\n",
        "image_size = 72  # We'll resize input images to this size"
      ],
      "metadata": {
        "id": "9ERyIzIFApi8"
      },
      "execution_count": null,
      "outputs": []
    },
    {
      "cell_type": "code",
      "source": [
        "generator = train_datagen.flow_from_dataframe(     \n",
        "    dataframe=df_train,  \n",
        "    directory=None,\n",
        "    x_col='filepath', # name of col in data frame that contains file names\n",
        "    y_col=\"diagnosis\", # name of col with labels \n",
        "    batch_size=42997,\n",
        "    shuffle=True,\n",
        "    #save_to_dir=saveDir,\n",
        "    target_size=(image_size, image_size),\n",
        "    color_mode='rgb',\n",
        "    class_mode='sparse'\n",
        ")\n",
        "\n",
        "\n",
        "imgs,labels = next(generator)\n",
        "print(f\"imgs.shape:{imgs.shape},labels.shape:{labels.shape}\")\n"
      ],
      "metadata": {
        "colab": {
          "base_uri": "https://localhost:8080/"
        },
        "id": "CmxVc5MagAVm",
        "outputId": "c6dba832-0027-4497-93bd-c9eae44178f4"
      },
      "execution_count": null,
      "outputs": [
        {
          "output_type": "stream",
          "name": "stderr",
          "text": [
            "/usr/local/lib/python3.7/dist-packages/keras_preprocessing/image/dataframe_iterator.py:282: UserWarning: Found 15460 invalid image filename(s) in x_col=\"filepath\". These filename(s) will be ignored.\n",
            "  .format(n_invalid, x_col)\n"
          ]
        },
        {
          "output_type": "stream",
          "name": "stdout",
          "text": [
            "Found 42997 validated image filenames belonging to 9 classes.\n",
            "imgs.shape:(42997, 72, 72, 3),labels.shape:(42997,)\n"
          ]
        }
      ]
    },
    {
      "cell_type": "code",
      "source": [
        "from sklearn.model_selection import train_test_split\n",
        "\n",
        "X_train, X_val, y_train, y_val = train_test_split(imgs,labels, test_size=0.25,stratify=labels,random_state=SEED)\n",
        "print(f\"X_train.shape:{X_train.shape},X_val.shape:{X_val.shape}\")\n",
        "print(f\"y_train.shape:{y_train.shape},y_val.shape:{y_val.shape}\")"
      ],
      "metadata": {
        "colab": {
          "base_uri": "https://localhost:8080/"
        },
        "id": "djFzYtVRDJ38",
        "outputId": "6294884d-8b01-4c12-b10c-8e78ea2b1031"
      },
      "execution_count": null,
      "outputs": [
        {
          "output_type": "stream",
          "name": "stdout",
          "text": [
            "X_train.shape:(32247, 72, 72, 3),X_val.shape:(10750, 72, 72, 3)\n",
            "y_train.shape:(32247,),y_val.shape:(10750,)\n"
          ]
        }
      ]
    },
    {
      "cell_type": "code",
      "source": [
        "from sklearn.ensemble import RandomForestClassifier\n",
        "from sklearn.metrics import average_precision_score,confusion_matrix,classification_report, accuracy_score, f1_score, roc_auc_score, auc\n",
        "\n",
        "\n",
        "nsamples, nx, ny, nrgb = X_train.shape\n",
        "X_train2 = X_train.reshape((nsamples,nx*ny*nrgb))\n",
        "\n",
        "nsamples, nx, ny, nrgb = X_val.shape\n",
        "X_val2 = X_val.reshape((nsamples,nx*ny*nrgb))\n",
        "\n",
        "model=RandomForestClassifier()\n",
        "model.fit(X_train2, y_train)\n",
        "\n",
        "y_pred=model.predict(X_val2)"
      ],
      "metadata": {
        "colab": {
          "base_uri": "https://localhost:8080/"
        },
        "id": "Zr4VKeQzi_vq",
        "outputId": "5497fec8-193d-4661-da2d-36e4c82a57bc"
      },
      "execution_count": null,
      "outputs": [
        {
          "output_type": "execute_result",
          "data": {
            "text/plain": [
              "array([7., 8., 7., ..., 7., 1., 6.], dtype=float32)"
            ]
          },
          "metadata": {},
          "execution_count": 8
        }
      ]
    },
    {
      "cell_type": "code",
      "source": [
        "from sklearn.metrics import average_precision_score,confusion_matrix,classification_report, accuracy_score, f1_score, average_precision_score, roc_auc_score, auc\n",
        "\n",
        "print(classification_report(y_pred,y_val))"
      ],
      "metadata": {
        "colab": {
          "base_uri": "https://localhost:8080/"
        },
        "id": "K8V7Ca7WNj8y",
        "outputId": "178ff14f-f319-4b13-c9a2-0b37acee8086"
      },
      "execution_count": null,
      "outputs": [
        {
          "output_type": "stream",
          "name": "stdout",
          "text": [
            "              precision    recall  f1-score   support\n",
            "\n",
            "         0.0       0.03      0.33      0.05        12\n",
            "         1.0       0.44      0.47      0.46       563\n",
            "         2.0       0.11      0.41      0.18       163\n",
            "         3.0       0.00      0.00      0.00         0\n",
            "         4.0       0.01      1.00      0.02         1\n",
            "         5.0       0.00      0.00      0.00         0\n",
            "         6.0       0.31      0.56      0.40       549\n",
            "         7.0       0.85      0.69      0.76      4618\n",
            "         8.0       0.92      0.85      0.88      4844\n",
            "\n",
            "    accuracy                           0.74     10750\n",
            "   macro avg       0.30      0.48      0.30     10750\n",
            "weighted avg       0.82      0.74      0.77     10750\n",
            "\n"
          ]
        },
        {
          "output_type": "stream",
          "name": "stderr",
          "text": [
            "/usr/local/lib/python3.7/dist-packages/sklearn/metrics/_classification.py:1318: UndefinedMetricWarning: Recall and F-score are ill-defined and being set to 0.0 in labels with no true samples. Use `zero_division` parameter to control this behavior.\n",
            "  _warn_prf(average, modifier, msg_start, len(result))\n",
            "/usr/local/lib/python3.7/dist-packages/sklearn/metrics/_classification.py:1318: UndefinedMetricWarning: Recall and F-score are ill-defined and being set to 0.0 in labels with no true samples. Use `zero_division` parameter to control this behavior.\n",
            "  _warn_prf(average, modifier, msg_start, len(result))\n",
            "/usr/local/lib/python3.7/dist-packages/sklearn/metrics/_classification.py:1318: UndefinedMetricWarning: Recall and F-score are ill-defined and being set to 0.0 in labels with no true samples. Use `zero_division` parameter to control this behavior.\n",
            "  _warn_prf(average, modifier, msg_start, len(result))\n"
          ]
        }
      ]
    }
  ]
}
